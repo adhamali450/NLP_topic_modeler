{
  "cells": [
    {
      "cell_type": "markdown",
      "metadata": {},
      "source": [
        "## Pulling dataset"
      ]
    },
    {
      "cell_type": "code",
      "execution_count": 20,
      "metadata": {
        "colab": {
          "base_uri": "https://localhost:8080/"
        },
        "id": "gTqct-gyItcy",
        "outputId": "59510bf1-4c9f-4fa2-be42-91073d5d6de1"
      },
      "outputs": [],
      "source": [
        "import pandas as pd\n",
        "data = pd.read_csv('./news.csv')"
      ]
    },
    {
      "cell_type": "markdown",
      "metadata": {},
      "source": [
        "## Selecting articles"
      ]
    },
    {
      "cell_type": "code",
      "execution_count": 21,
      "metadata": {
        "id": "RiCfVyU_23Ha"
      },
      "outputs": [],
      "source": [
        "# Unused features\n",
        "data=data.drop(columns=['ArticleId','Category'])"
      ]
    },
    {
      "cell_type": "markdown",
      "metadata": {},
      "source": [
        "# Preprocessing\n",
        "#### [1] Removing punctuation and case folding"
      ]
    },
    {
      "cell_type": "code",
      "execution_count": 22,
      "metadata": {
        "colab": {
          "base_uri": "https://localhost:8080/",
          "height": 206
        },
        "id": "JUOSvuCU25LN",
        "outputId": "84408baa-a70c-4f37-b499-d64111a67836"
      },
      "outputs": [
        {
          "data": {
            "text/html": [
              "<div>\n",
              "<style scoped>\n",
              "    .dataframe tbody tr th:only-of-type {\n",
              "        vertical-align: middle;\n",
              "    }\n",
              "\n",
              "    .dataframe tbody tr th {\n",
              "        vertical-align: top;\n",
              "    }\n",
              "\n",
              "    .dataframe thead th {\n",
              "        text-align: right;\n",
              "    }\n",
              "</style>\n",
              "<table border=\"1\" class=\"dataframe\">\n",
              "  <thead>\n",
              "    <tr style=\"text-align: right;\">\n",
              "      <th></th>\n",
              "      <th>content</th>\n",
              "      <th>content_processed</th>\n",
              "    </tr>\n",
              "  </thead>\n",
              "  <tbody>\n",
              "    <tr>\n",
              "      <th>0</th>\n",
              "      <td>worldcom ex-boss launches defence lawyers defe...</td>\n",
              "      <td>worldcom exboss launches defence lawyers defen...</td>\n",
              "    </tr>\n",
              "    <tr>\n",
              "      <th>1</th>\n",
              "      <td>german business confidence slides german busin...</td>\n",
              "      <td>german business confidence slides german busin...</td>\n",
              "    </tr>\n",
              "    <tr>\n",
              "      <th>2</th>\n",
              "      <td>bbc poll indicates economic gloom citizens in ...</td>\n",
              "      <td>bbc poll indicates economic gloom citizens in ...</td>\n",
              "    </tr>\n",
              "    <tr>\n",
              "      <th>3</th>\n",
              "      <td>lifestyle  governs mobile choice  faster  bett...</td>\n",
              "      <td>lifestyle  governs mobile choice  faster  bett...</td>\n",
              "    </tr>\n",
              "    <tr>\n",
              "      <th>4</th>\n",
              "      <td>enron bosses in $168m payout eighteen former e...</td>\n",
              "      <td>enron bosses in 168m payout eighteen former en...</td>\n",
              "    </tr>\n",
              "  </tbody>\n",
              "</table>\n",
              "</div>"
            ],
            "text/plain": [
              "                                             content  \\\n",
              "0  worldcom ex-boss launches defence lawyers defe...   \n",
              "1  german business confidence slides german busin...   \n",
              "2  bbc poll indicates economic gloom citizens in ...   \n",
              "3  lifestyle  governs mobile choice  faster  bett...   \n",
              "4  enron bosses in $168m payout eighteen former e...   \n",
              "\n",
              "                                   content_processed  \n",
              "0  worldcom exboss launches defence lawyers defen...  \n",
              "1  german business confidence slides german busin...  \n",
              "2  bbc poll indicates economic gloom citizens in ...  \n",
              "3  lifestyle  governs mobile choice  faster  bett...  \n",
              "4  enron bosses in 168m payout eighteen former en...  "
            ]
          },
          "execution_count": 22,
          "metadata": {},
          "output_type": "execute_result"
        }
      ],
      "source": [
        "# removing punctuation\n",
        "data['content_processed'] = data['content'].str.replace(r'[^\\w\\s]+', '', regex=True)\n",
        "\n",
        "#case folding\n",
        "data['content_processed']=data['content_processed'].map(lambda x: x.lower())\n",
        "\n",
        "data.head()"
      ]
    },
    {
      "cell_type": "markdown",
      "metadata": {},
      "source": [
        "### [2] Tokenizing, removing stopwords and lemmatizing"
      ]
    },
    {
      "cell_type": "code",
      "execution_count": 23,
      "metadata": {
        "colab": {
          "base_uri": "https://localhost:8080/",
          "height": 345
        },
        "id": "vbwIQi4o28ts",
        "outputId": "9e627ef0-5695-4089-d306-44682fc35fd1"
      },
      "outputs": [
        {
          "data": {
            "text/html": [
              "<div>\n",
              "<style scoped>\n",
              "    .dataframe tbody tr th:only-of-type {\n",
              "        vertical-align: middle;\n",
              "    }\n",
              "\n",
              "    .dataframe tbody tr th {\n",
              "        vertical-align: top;\n",
              "    }\n",
              "\n",
              "    .dataframe thead th {\n",
              "        text-align: right;\n",
              "    }\n",
              "</style>\n",
              "<table border=\"1\" class=\"dataframe\">\n",
              "  <thead>\n",
              "    <tr style=\"text-align: right;\">\n",
              "      <th></th>\n",
              "      <th>content</th>\n",
              "      <th>content_processed</th>\n",
              "    </tr>\n",
              "  </thead>\n",
              "  <tbody>\n",
              "    <tr>\n",
              "      <th>0</th>\n",
              "      <td>worldcom ex-boss launches defence lawyers defe...</td>\n",
              "      <td>[worldcom, exboss, launch, defence, lawyer, de...</td>\n",
              "    </tr>\n",
              "    <tr>\n",
              "      <th>1</th>\n",
              "      <td>german business confidence slides german busin...</td>\n",
              "      <td>[german, business, confidence, slide, german, ...</td>\n",
              "    </tr>\n",
              "    <tr>\n",
              "      <th>2</th>\n",
              "      <td>bbc poll indicates economic gloom citizens in ...</td>\n",
              "      <td>[bbc, poll, indicates, economic, gloom, citize...</td>\n",
              "    </tr>\n",
              "    <tr>\n",
              "      <th>3</th>\n",
              "      <td>lifestyle  governs mobile choice  faster  bett...</td>\n",
              "      <td>[lifestyle, governs, mobile, choice, faster, b...</td>\n",
              "    </tr>\n",
              "    <tr>\n",
              "      <th>4</th>\n",
              "      <td>enron bosses in $168m payout eighteen former e...</td>\n",
              "      <td>[enron, boss, 168m, payout, eighteen, former, ...</td>\n",
              "    </tr>\n",
              "  </tbody>\n",
              "</table>\n",
              "</div>"
            ],
            "text/plain": [
              "                                             content  \\\n",
              "0  worldcom ex-boss launches defence lawyers defe...   \n",
              "1  german business confidence slides german busin...   \n",
              "2  bbc poll indicates economic gloom citizens in ...   \n",
              "3  lifestyle  governs mobile choice  faster  bett...   \n",
              "4  enron bosses in $168m payout eighteen former e...   \n",
              "\n",
              "                                   content_processed  \n",
              "0  [worldcom, exboss, launch, defence, lawyer, de...  \n",
              "1  [german, business, confidence, slide, german, ...  \n",
              "2  [bbc, poll, indicates, economic, gloom, citize...  \n",
              "3  [lifestyle, governs, mobile, choice, faster, b...  \n",
              "4  [enron, boss, 168m, payout, eighteen, former, ...  "
            ]
          },
          "execution_count": 23,
          "metadata": {},
          "output_type": "execute_result"
        }
      ],
      "source": [
        "import nltk\n",
        "from nltk.tokenize import word_tokenize\n",
        "from nltk.stem import WordNetLemmatizer\n",
        "from nltk.corpus import stopwords\n",
        "# nltk.download('omw-1.4')\n",
        "# nltk.download('stopwords')\n",
        "# nltk.download('punkt')\n",
        "# nltk.download('wordnet')\n",
        "\n",
        "stop_words = stopwords.words(\"english\")\n",
        "\n",
        "# tokenizing, lemmatizing & stop words removal\n",
        "lemmatizer = WordNetLemmatizer()\n",
        "\n",
        "def tokenize_lemmatize(article):\n",
        "    return [lemmatizer.lemmatize(word) for word in word_tokenize(article)]\n",
        "\n",
        "def tokenize(article):\n",
        "    return word_tokenize(article)\n",
        "\n",
        "\n",
        "def rm_stopwords(tokens):\n",
        "    return [token for token in tokens if token not in stop_words]\n",
        "\n",
        "def lemmatize(tokens):\n",
        "    return [lemmatizer.lemmatize(token) for token in tokens]\n",
        "\n",
        "data['content_processed'] = data['content_processed'].apply(tokenize)\n",
        "data['content_processed'] = data['content_processed'].apply(rm_stopwords)\n",
        "data['content_processed'] = data['content_processed'].apply(lemmatize)\n",
        "\n",
        "data.head()"
      ]
    },
    {
      "cell_type": "markdown",
      "metadata": {},
      "source": [
        "## Prepating data for LDA"
      ]
    },
    {
      "cell_type": "code",
      "execution_count": 24,
      "metadata": {
        "id": "we16xriH2_yH"
      },
      "outputs": [],
      "source": [
        "# Prepare data for LDA\n",
        "\n",
        "import gensim.corpora as corpora\n",
        "\n",
        "dictionary = corpora.Dictionary(data['content_processed'])\n",
        "\n",
        "bow_corpus = [dictionary.doc2bow(doc) for doc in data['content_processed']]"
      ]
    },
    {
      "cell_type": "markdown",
      "metadata": {},
      "source": [
        "## LDA model training"
      ]
    },
    {
      "cell_type": "code",
      "execution_count": 25,
      "metadata": {
        "colab": {
          "base_uri": "https://localhost:8080/"
        },
        "id": "Vhm_nF4q3Ffl",
        "outputId": "e2043d23-4955-458a-82ef-cb06fc84aea7"
      },
      "outputs": [
        {
          "data": {
            "text/plain": [
              "[(0,\n",
              "  '0.012*\"said\" + 0.006*\"game\" + 0.004*\"would\" + 0.004*\"club\" + 0.004*\"player\" + 0.004*\"year\" + 0.004*\"one\" + 0.004*\"last\" + 0.004*\"time\" + 0.004*\"two\"'),\n",
              " (1,\n",
              "  '0.007*\"england\" + 0.006*\"said\" + 0.005*\"game\" + 0.004*\"world\" + 0.004*\"first\" + 0.004*\"ireland\" + 0.004*\"year\" + 0.004*\"win\" + 0.004*\"wale\" + 0.004*\"two\"'),\n",
              " (2,\n",
              "  '0.021*\"said\" + 0.015*\"mr\" + 0.009*\"would\" + 0.007*\"government\" + 0.006*\"people\" + 0.005*\"say\" + 0.005*\"labour\" + 0.005*\"election\" + 0.005*\"party\" + 0.005*\"minister\"'),\n",
              " (3,\n",
              "  '0.011*\"said\" + 0.011*\"year\" + 0.008*\"film\" + 0.007*\"u\" + 0.006*\"best\" + 0.005*\"sale\" + 0.005*\"award\" + 0.004*\"also\" + 0.004*\"market\" + 0.004*\"new\"'),\n",
              " (4,\n",
              "  '0.013*\"said\" + 0.008*\"people\" + 0.006*\"mobile\" + 0.006*\"phone\" + 0.005*\"technology\" + 0.005*\"game\" + 0.005*\"new\" + 0.005*\"service\" + 0.005*\"music\" + 0.005*\"also\"')]"
            ]
          },
          "execution_count": 25,
          "metadata": {},
          "output_type": "execute_result"
        }
      ],
      "source": [
        "# import warnings\n",
        "# warnings.filterwarnings(\"ignore\",category=DeprecationWarning)\n",
        "\n",
        "from gensim.models import LdaMulticore\n",
        "from gensim.models import CoherenceModel\n",
        "\n",
        "ntopics = 5\n",
        "\n",
        "lda_model =  LdaMulticore(bow_corpus, \n",
        "                          num_topics = ntopics, \n",
        "                          id2word = dictionary,                   \n",
        "                          passes = 30)\n",
        "\n",
        "lda_model.print_topics(ntopics)"
      ]
    },
    {
      "cell_type": "markdown",
      "metadata": {},
      "source": [
        "## Perplexity and Coherence"
      ]
    },
    {
      "cell_type": "code",
      "execution_count": 26,
      "metadata": {},
      "outputs": [
        {
          "name": "stdout",
          "output_type": "stream",
          "text": [
            "Perplexity:  -8.361207093437164\n",
            "\n",
            "Coherence Score:  0.4207031751992371\n"
          ]
        }
      ],
      "source": [
        "print('Perplexity: ', lda_model.log_perplexity(bow_corpus))\n",
        "\n",
        "coherence_model_lda = CoherenceModel(\n",
        "    model=lda_model, texts=data['content_processed'], dictionary=dictionary, coherence='c_v')\n",
        "coherence_lda = coherence_model_lda.get_coherence()\n",
        "print('\\nCoherence Score: ', coherence_lda)\n"
      ]
    },
    {
      "cell_type": "markdown",
      "metadata": {},
      "source": [
        "## Visualizing articles clustring via html file"
      ]
    },
    {
      "cell_type": "code",
      "execution_count": null,
      "metadata": {
        "id": "aoOfADMv3Gk2"
      },
      "outputs": [],
      "source": [
        "import pyLDAvis.gensim_models\n",
        "import pyLDAvis\n",
        "import os\n",
        "\n",
        "pyLDAvis.enable_notebook()\n",
        "LDAvis_data_filepath = os.path.join('./results/ldavis_prepared_' + str(ntopics))\n",
        "p=pyLDAvis.gensim_models.prepare(lda_model, bow_corpus, dictionary)\n",
        "pyLDAvis.save_html(p,'lda.html')"
      ]
    }
  ],
  "metadata": {
    "colab": {
      "collapsed_sections": [],
      "name": "topic_modeler.ipynb",
      "provenance": []
    },
    "kernelspec": {
      "display_name": "Python 3",
      "name": "python3"
    },
    "language_info": {
      "codemirror_mode": {
        "name": "ipython",
        "version": 3
      },
      "file_extension": ".py",
      "mimetype": "text/x-python",
      "name": "python",
      "nbconvert_exporter": "python",
      "pygments_lexer": "ipython3",
      "version": "3.10.4"
    }
  },
  "nbformat": 4,
  "nbformat_minor": 0
}
